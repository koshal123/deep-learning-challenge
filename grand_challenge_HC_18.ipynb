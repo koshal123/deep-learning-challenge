{
  "nbformat": 4,
  "nbformat_minor": 0,
  "metadata": {
    "colab": {
      "name": "grand_challenge-HC_18.ipynb",
      "version": "0.3.2",
      "provenance": [],
      "collapsed_sections": [],
      "include_colab_link": true
    },
    "kernelspec": {
      "name": "python3",
      "display_name": "Python 3"
    },
    "accelerator": "GPU"
  },
  "cells": [
    {
      "cell_type": "markdown",
      "metadata": {
        "id": "view-in-github",
        "colab_type": "text"
      },
      "source": [
        "<a href=\"https://colab.research.google.com/github/koshal123/deep-learning-challenge-head_circumference_challenge-/blob/master/grand_challenge_HC_18.ipynb\" target=\"_parent\"><img src=\"https://colab.research.google.com/assets/colab-badge.svg\" alt=\"Open In Colab\"/></a>"
      ]
    },
    {
      "cell_type": "markdown",
      "metadata": {
        "id": "9T9_f_w1F6BJ",
        "colab_type": "text"
      },
      "source": [
        "#Importing Test/Train Data from Google Drive"
      ]
    },
    {
      "cell_type": "code",
      "metadata": {
        "id": "fC8XP76RZwj8",
        "colab_type": "code",
        "colab": {}
      },
      "source": [
        " !pip install -U -q PyDrive ## we will have to install for every colab session\n",
        "\n",
        "from pydrive.auth import GoogleAuth\n",
        "from pydrive.drive import GoogleDrive\n",
        "from google.colab import auth\n",
        "from oauth2client.client import GoogleCredentials\n",
        "\n",
        "# 1. Authenticate and create the PyDrive client.\n",
        "auth.authenticate_user()\n",
        "gauth = GoogleAuth()\n",
        "gauth.credentials = GoogleCredentials.get_application_default()\n",
        "drive = GoogleDrive(gauth)"
      ],
      "execution_count": 0,
      "outputs": []
    },
    {
      "cell_type": "code",
      "metadata": {
        "colab_type": "code",
        "id": "USo6w3_63TB3",
        "colab": {}
      },
      "source": [
        "#Accessing the training data\n",
        "#downloading training images from google -drive\n",
        "training_data = drive.CreateFile({'id':'1wfT8FqrxTpf-384jH1S9ec53uk1cktp9'})\n",
        "training_data.GetContentFile('training_set.zip')\n",
        "!unzip training_set.zip"
      ],
      "execution_count": 0,
      "outputs": []
    },
    {
      "cell_type": "code",
      "metadata": {
        "id": "EkZ5LDfqMI6i",
        "colab_type": "code",
        "colab": {}
      },
      "source": [
        "#Accessing the test data from google drive\n",
        "test_data = drive.CreateFile({'id':'1S7QNdVXH9LHUvT29iVpSv9DQQGu4qefE'})\n",
        "test_data.GetContentFile('test_set.zip')\n",
        "!unzip test_set.zip "
      ],
      "execution_count": 0,
      "outputs": []
    },
    {
      "cell_type": "code",
      "metadata": {
        "id": "-Pn-Oo52rmKE",
        "colab_type": "code",
        "outputId": "f55635cf-79c9-478e-957d-d09ce2b6a97a",
        "colab": {
          "base_uri": "https://localhost:8080/",
          "height": 50
        }
      },
      "source": [
        "#Creating Empty space to store test_images Mask\n",
        "test_segmentation = drive.CreateFile({'id':'1yPD2pV3VRXTwcXzzEZnbsS-3g9K-cVuE'})\n",
        "test_segmentation.GetContentFile('test_segmentation.zip')\n",
        "!unzip test_segmentation.zip"
      ],
      "execution_count": 0,
      "outputs": [
        {
          "output_type": "stream",
          "text": [
            "Archive:  test_segmentation.zip\n",
            "   creating: segmentation_test/\n"
          ],
          "name": "stdout"
        }
      ]
    },
    {
      "cell_type": "markdown",
      "metadata": {
        "id": "7TzKCYL3P2lV",
        "colab_type": "text"
      },
      "source": [
        "#Importing pixel size information of training set and test set from G-Drive"
      ]
    },
    {
      "cell_type": "code",
      "metadata": {
        "id": "VV8WzCTVMyUx",
        "colab_type": "code",
        "outputId": "2710e4a2-43b7-4be0-94e3-7846ac59ddff",
        "colab": {
          "base_uri": "https://localhost:8080/",
          "height": 195
        }
      },
      "source": [
        "import pandas as pd\n",
        "test_pixel = pd.read_csv('/content/drive/My Drive/test_set_pixel_size.csv')\n",
        "test_pixel.head()"
      ],
      "execution_count": 92,
      "outputs": [
        {
          "output_type": "execute_result",
          "data": {
            "text/html": [
              "<div>\n",
              "<style scoped>\n",
              "    .dataframe tbody tr th:only-of-type {\n",
              "        vertical-align: middle;\n",
              "    }\n",
              "\n",
              "    .dataframe tbody tr th {\n",
              "        vertical-align: top;\n",
              "    }\n",
              "\n",
              "    .dataframe thead th {\n",
              "        text-align: right;\n",
              "    }\n",
              "</style>\n",
              "<table border=\"1\" class=\"dataframe\">\n",
              "  <thead>\n",
              "    <tr style=\"text-align: right;\">\n",
              "      <th></th>\n",
              "      <th>filename</th>\n",
              "      <th>pixel size(mm)</th>\n",
              "    </tr>\n",
              "  </thead>\n",
              "  <tbody>\n",
              "    <tr>\n",
              "      <th>0</th>\n",
              "      <td>000_HC.png</td>\n",
              "      <td>0.235857</td>\n",
              "    </tr>\n",
              "    <tr>\n",
              "      <th>1</th>\n",
              "      <td>001_HC.png</td>\n",
              "      <td>0.067973</td>\n",
              "    </tr>\n",
              "    <tr>\n",
              "      <th>2</th>\n",
              "      <td>002_HC.png</td>\n",
              "      <td>0.165202</td>\n",
              "    </tr>\n",
              "    <tr>\n",
              "      <th>3</th>\n",
              "      <td>003_HC.png</td>\n",
              "      <td>0.096674</td>\n",
              "    </tr>\n",
              "    <tr>\n",
              "      <th>4</th>\n",
              "      <td>004_HC.png</td>\n",
              "      <td>0.202203</td>\n",
              "    </tr>\n",
              "  </tbody>\n",
              "</table>\n",
              "</div>"
            ],
            "text/plain": [
              "     filename  pixel size(mm)\n",
              "0  000_HC.png        0.235857\n",
              "1  001_HC.png        0.067973\n",
              "2  002_HC.png        0.165202\n",
              "3  003_HC.png        0.096674\n",
              "4  004_HC.png        0.202203"
            ]
          },
          "metadata": {
            "tags": []
          },
          "execution_count": 92
        }
      ]
    },
    {
      "cell_type": "code",
      "metadata": {
        "id": "o-Uaf0_YONzX",
        "colab_type": "code",
        "outputId": "349b9e8d-ee25-4f96-be5e-fa468db09955",
        "colab": {
          "base_uri": "https://localhost:8080/",
          "height": 195
        }
      },
      "source": [
        "training_pixel = pd.read_csv('/content/drive/My Drive/training_set_pixel_size_and_hc.csv')\n",
        "training_pixel.head()"
      ],
      "execution_count": 93,
      "outputs": [
        {
          "output_type": "execute_result",
          "data": {
            "text/html": [
              "<div>\n",
              "<style scoped>\n",
              "    .dataframe tbody tr th:only-of-type {\n",
              "        vertical-align: middle;\n",
              "    }\n",
              "\n",
              "    .dataframe tbody tr th {\n",
              "        vertical-align: top;\n",
              "    }\n",
              "\n",
              "    .dataframe thead th {\n",
              "        text-align: right;\n",
              "    }\n",
              "</style>\n",
              "<table border=\"1\" class=\"dataframe\">\n",
              "  <thead>\n",
              "    <tr style=\"text-align: right;\">\n",
              "      <th></th>\n",
              "      <th>filename</th>\n",
              "      <th>pixel size(mm)</th>\n",
              "      <th>head circumference (mm)</th>\n",
              "    </tr>\n",
              "  </thead>\n",
              "  <tbody>\n",
              "    <tr>\n",
              "      <th>0</th>\n",
              "      <td>000_HC.png</td>\n",
              "      <td>0.069136</td>\n",
              "      <td>44.30</td>\n",
              "    </tr>\n",
              "    <tr>\n",
              "      <th>1</th>\n",
              "      <td>001_HC.png</td>\n",
              "      <td>0.089659</td>\n",
              "      <td>56.81</td>\n",
              "    </tr>\n",
              "    <tr>\n",
              "      <th>2</th>\n",
              "      <td>002_HC.png</td>\n",
              "      <td>0.062033</td>\n",
              "      <td>68.75</td>\n",
              "    </tr>\n",
              "    <tr>\n",
              "      <th>3</th>\n",
              "      <td>003_HC.png</td>\n",
              "      <td>0.091291</td>\n",
              "      <td>69.00</td>\n",
              "    </tr>\n",
              "    <tr>\n",
              "      <th>4</th>\n",
              "      <td>004_HC.png</td>\n",
              "      <td>0.061240</td>\n",
              "      <td>59.81</td>\n",
              "    </tr>\n",
              "  </tbody>\n",
              "</table>\n",
              "</div>"
            ],
            "text/plain": [
              "     filename  pixel size(mm)  head circumference (mm)\n",
              "0  000_HC.png        0.069136                    44.30\n",
              "1  001_HC.png        0.089659                    56.81\n",
              "2  002_HC.png        0.062033                    68.75\n",
              "3  003_HC.png        0.091291                    69.00\n",
              "4  004_HC.png        0.061240                    59.81"
            ]
          },
          "metadata": {
            "tags": []
          },
          "execution_count": 93
        }
      ]
    },
    {
      "cell_type": "markdown",
      "metadata": {
        "id": "Ec7-Bhwkjp_B",
        "colab_type": "text"
      },
      "source": [
        "#Setting cuda as our device, Dynamically by using code:"
      ]
    },
    {
      "cell_type": "code",
      "metadata": {
        "id": "SkPOFR9AyT-T",
        "colab_type": "code",
        "colab": {}
      },
      "source": [
        "import torch\n",
        "import os \n",
        "import cv2"
      ],
      "execution_count": 0,
      "outputs": []
    },
    {
      "cell_type": "code",
      "metadata": {
        "id": "jWKuWaaujpDO",
        "colab_type": "code",
        "outputId": "66cd66a8-8e98-4f02-feb8-c45337d9927d",
        "colab": {
          "base_uri": "https://localhost:8080/",
          "height": 34
        }
      },
      "source": [
        "device = torch.device(\"cuda\" if torch.cuda.is_available() else \"cpu\")\n",
        "print(device)"
      ],
      "execution_count": 95,
      "outputs": [
        {
          "output_type": "stream",
          "text": [
            "cuda\n"
          ],
          "name": "stdout"
        }
      ]
    },
    {
      "cell_type": "markdown",
      "metadata": {
        "id": "OwH2ie0zQZyQ",
        "colab_type": "text"
      },
      "source": [
        "# Run the below cells only once per colab session"
      ]
    },
    {
      "cell_type": "markdown",
      "metadata": {
        "id": "JZ71kKhgF83Q",
        "colab_type": "text"
      },
      "source": [
        "**Replacing the training set images with their masks but not saving them in Drive**"
      ]
    },
    {
      "cell_type": "code",
      "metadata": {
        "id": "Inhea7a67LF6",
        "colab_type": "code",
        "colab": {}
      },
      "source": [
        "def mask_generator(im):\n",
        "  imgray = cv2.cvtColor(im,cv2.COLOR_BGR2GRAY)\n",
        "  ret,thresh = cv2.threshold(imgray,127,255,0)\n",
        "  useless0,contours, useless1 = cv2.findContours(thresh, cv2.RETR_TREE, cv2.CHAIN_APPROX_SIMPLE)      \n",
        "  ellipse = cv2.fitEllipse(contours[0])\n",
        "  return cv2.ellipse(im,ellipse,(255,255,255),-1)"
      ],
      "execution_count": 0,
      "outputs": []
    },
    {
      "cell_type": "markdown",
      "metadata": {
        "id": "4BqR3CuAFKxL",
        "colab_type": "text"
      },
      "source": [
        "**Checking the above function**"
      ]
    },
    {
      "cell_type": "code",
      "metadata": {
        "id": "dVSIBkYMQbQ0",
        "colab_type": "code",
        "outputId": "168eca1f-b642-49d6-a1b2-28bd55a53249",
        "colab": {
          "base_uri": "https://localhost:8080/",
          "height": 397
        }
      },
      "source": [
        "import matplotlib.pyplot as plt\n",
        "fig = plt.figure(figsize = (30,7))\n",
        "for index in range(2):\n",
        "  file_path = os.path.join('/content/training_set', training_pixel.iloc[index, 0].replace('.png','_Annotation.png'))\n",
        " \n",
        "  ax = fig.add_subplot(2, 7, index+1)           \n",
        "  plt.imshow(cv2.imread(file_path))\n",
        "    \n",
        "  ax = fig.add_subplot(2, 7, index+8)\n",
        "  plt.imshow(mask_generator(cv2.imread(file_path)))      "
      ],
      "execution_count": 97,
      "outputs": [
        {
          "output_type": "display_data",
          "data": {
            "image/png": "[encoded data removed]",
            "text/plain": [
              "<Figure size 2160x504 with 4 Axes>"
            ]
          },
          "metadata": {
            "tags": []
          }
        }
      ]
    },
    {
      "cell_type": "code",
      "metadata": {
        "id": "dCwjt4kzTjSe",
        "colab_type": "code",
        "colab": {}
      },
      "source": [
        "for index in range(len(training_pixel)):\n",
        "    file_path = os.path.join('/content/training_set', training_pixel.iloc[index, 0].replace('.png','_Annotation.png'))\n",
        "    im = cv2.imread(file_path)\n",
        "    mask = mask_generator(im)\n",
        "    cv2.imwrite(file_path, mask)"
      ],
      "execution_count": 0,
      "outputs": []
    },
    {
      "cell_type": "markdown",
      "metadata": {
        "id": "uJZQt3PPbGFx",
        "colab_type": "text"
      },
      "source": [
        "#Don't run above cell again"
      ]
    },
    {
      "cell_type": "markdown",
      "metadata": {
        "id": "qh_xLUWyOb_M",
        "colab_type": "text"
      },
      "source": [
        "importing libraries to be used"
      ]
    },
    {
      "cell_type": "code",
      "metadata": {
        "id": "PY7mYaAMcM_y",
        "colab_type": "code",
        "colab": {}
      },
      "source": [
        "from tqdm import tqdm_notebook \n",
        "import copy\n",
        "import glob\n",
        "from PIL import Image\n",
        "import torchvision\n",
        "import torch.utils.data\n",
        "from torch.utils.data import DataLoader, Dataset, random_split\n",
        "import torchvision.transforms as transforms\n",
        "from torchvision import datasets\n",
        "\n",
        "import torch.nn as nn\n",
        "import torch.nn.functional as F\n",
        "import torch.optim as optim\n",
        "\n",
        "import numpy as np"
      ],
      "execution_count": 0,
      "outputs": []
    },
    {
      "cell_type": "markdown",
      "metadata": {
        "id": "O_MH1PPOMPj1",
        "colab_type": "text"
      },
      "source": [
        "#mount drive in every colab session "
      ]
    },
    {
      "cell_type": "code",
      "metadata": {
        "id": "nlNZ8WZNMOg5",
        "colab_type": "code",
        "outputId": "35848185-28d0-4145-ad80-e4450c70ad7f",
        "colab": {
          "base_uri": "https://localhost:8080/",
          "height": 34
        }
      },
      "source": [
        "from google.colab import drive\n",
        "drive.mount('/content/drive', force_remount = True)"
      ],
      "execution_count": 100,
      "outputs": [
        {
          "output_type": "stream",
          "text": [
            "Mounted at /content/drive\n"
          ],
          "name": "stdout"
        }
      ]
    },
    {
      "cell_type": "markdown",
      "metadata": {
        "colab_type": "text",
        "id": "1c8sMR7MFhix"
      },
      "source": [
        "#Saving mask generation for whole training set"
      ]
    },
    {
      "cell_type": "markdown",
      "metadata": {
        "id": "CKimDmyk9bhq",
        "colab_type": "text"
      },
      "source": [
        "**mask generation is only once,,  as otherwise images were unnecessary repeats in the same folder**"
      ]
    },
    {
      "cell_type": "code",
      "metadata": {
        "id": "98Wsvb0SCnPu",
        "colab_type": "code",
        "colab": {}
      },
      "source": [
        "def generate_mask(source_file_path, dest_file_path):\n",
        "    file_names = sorted([file for _,_,files in os.walk(source_file_path) for file in files])\n",
        "    for i, file_name in enumerate(file_names):\n",
        "        if i % 2 != 0:\n",
        "            im = cv2.imread(source_file_path+file_name)\n",
        "            imgray = cv2.cvtColor(im,cv2.COLOR_BGR2GRAY)\n",
        "            ret,thresh = cv2.threshold(imgray,127,255,0)\n",
        "            im2, contours, hierarchy = cv2.findContours(thresh,cv2.RETR_TREE,cv2.CHAIN_APPROX_SIMPLE)\n",
        "            ellipse = cv2.fitEllipse(contours[0])\n",
        "            im1 = cv2.ellipse(im,ellipse,(255,255,255),-1)\n",
        "            image_name = file_name.replace('Annotation', 'Mask')\n",
        "            cv2.imwrite(dest_file_path+image_name, im1)\n",
        "    \n",
        "    return 1"
      ],
      "execution_count": 0,
      "outputs": []
    },
    {
      "cell_type": "markdown",
      "metadata": {
        "id": "DrnWghAeDNXZ",
        "colab_type": "text"
      },
      "source": [
        "**the first folder denotes the path of my training_set_images     AND  the second folder denotes the path at which we want to save the mask of training_set**"
      ]
    },
    {
      "cell_type": "markdown",
      "metadata": {
        "id": "n8wQIIQVD4J6",
        "colab_type": "text"
      },
      "source": [
        "**And only these paths are used in the dataloader with X_train and Y_train respectevily**"
      ]
    },
    {
      "cell_type": "code",
      "metadata": {
        "id": "bDv4ultNvox_",
        "colab_type": "code",
        "colab": {}
      },
      "source": [
        "# generate_mask('/content/training_set/','/content/drive/My Drive/Mask_HC18/') \n"
      ],
      "execution_count": 0,
      "outputs": []
    },
    {
      "cell_type": "markdown",
      "metadata": {
        "id": "EOSn_oc9XHjh",
        "colab_type": "text"
      },
      "source": [
        "#Changing dataset to Torch form"
      ]
    },
    {
      "cell_type": "code",
      "metadata": {
        "id": "wGQ12_JWXFtx",
        "colab_type": "code",
        "colab": {}
      },
      "source": [
        "class CHALLENGE18(torch.utils.data.Dataset):\n",
        "  def __init__(self, png_images, transform_X=None,transform_Y = None,train=True):\n",
        "    self.X_train = glob.glob('/content/training_set/*HC.png')\n",
        "    \n",
        "    self.Y_train = glob.glob('/content/drive/My Drive/Mask_HC18/*')\n",
        "    self.transform_X = transform_X\n",
        "    self.transform_Y = transform_Y\n",
        "    \n",
        "   \n",
        "    \n",
        "    self.png_images = png_images\n",
        "    \n",
        "  def __len__(self):\n",
        "    if self.png_images == \"train\":\n",
        "      return len(self.X_train)\n",
        "    else:\n",
        "      print(\"code is wrong\")\n",
        "      \n",
        "  def __getitem__(self,idx):\n",
        "    if self.png_images == \"train\":\n",
        "      \n",
        "      X=np.array(Image.open(self.X_train[idx]).resize((572,572))).reshape(572,572,1) #as per U-net paper\n",
        "      X = self.transform_X(X)\n",
        "      #print(self.X_train[idx])\n",
        "      name = self.X_train[idx].split('/')\n",
        "      name2 = self.Y_train[idx].split('/')\n",
        "      #print(name[3])\n",
        "      Y=np.array(Image.open(self.Y_train[idx].replace(name2[5], name[3]).replace('.png','_Mask.png')).convert('L').resize((572,572))).reshape(572,572,1)\n",
        "      Y = self.transform_Y(Y)\n",
        "      \n",
        "      #print(name2[5])\n",
        "      #print(self.Y_train[idx].replace(name2[5], name[3]).replace('.png','_Mask.png'))\n",
        "      \n",
        "      return X, Y\n",
        "    \n",
        "    else:\n",
        "      print(\"code is wrong\")"
      ],
      "execution_count": 0,
      "outputs": []
    },
    {
      "cell_type": "markdown",
      "metadata": {
        "id": "eaCBtlTNMkhp",
        "colab_type": "text"
      },
      "source": [
        "#Normalizing image between [0,1]"
      ]
    },
    {
      "cell_type": "code",
      "metadata": {
        "id": "pvYs4E5SloLF",
        "colab_type": "code",
        "colab": {}
      },
      "source": [
        "transform_X = transforms.Compose([transforms.ToTensor(),transforms.Normalize((0.5, ), (0.5, ))])\n",
        "transform_Y = transforms.Compose([transforms.ToTensor()])\n",
        "total_images = CHALLENGE18(\"train\",transform_Y=transform_Y, transform_X = transform_X)"
      ],
      "execution_count": 0,
      "outputs": []
    },
    {
      "cell_type": "code",
      "metadata": {
        "id": "iuoWMYWbGH5-",
        "colab_type": "code",
        "outputId": "ebe95ef5-b660-41c3-8240-03a480d41887",
        "colab": {
          "base_uri": "https://localhost:8080/",
          "height": 34
        }
      },
      "source": [
        "len(total_images)"
      ],
      "execution_count": 104,
      "outputs": [
        {
          "output_type": "execute_result",
          "data": {
            "text/plain": [
              "999"
            ]
          },
          "metadata": {
            "tags": []
          },
          "execution_count": 104
        }
      ]
    },
    {
      "cell_type": "code",
      "metadata": {
        "id": "IDkYByL0HL8r",
        "colab_type": "code",
        "colab": {}
      },
      "source": [
        "x, y = total_images[555]"
      ],
      "execution_count": 0,
      "outputs": []
    },
    {
      "cell_type": "markdown",
      "metadata": {
        "id": "0VD6VdtEGmfc",
        "colab_type": "text"
      },
      "source": [
        "**Cross-checking the shape of x and y to being sure**"
      ]
    },
    {
      "cell_type": "code",
      "metadata": {
        "id": "mQN5W4G7byX8",
        "colab_type": "code",
        "outputId": "c9fba29a-8d7e-4171-ef7e-809bba00e8f5",
        "colab": {
          "base_uri": "https://localhost:8080/",
          "height": 34
        }
      },
      "source": [
        "x.shape"
      ],
      "execution_count": 106,
      "outputs": [
        {
          "output_type": "execute_result",
          "data": {
            "text/plain": [
              "torch.Size([1, 572, 572])"
            ]
          },
          "metadata": {
            "tags": []
          },
          "execution_count": 106
        }
      ]
    },
    {
      "cell_type": "code",
      "metadata": {
        "id": "OC_Ws7v9bzaG",
        "colab_type": "code",
        "outputId": "f4a1c9c1-4527-47e9-8574-1661c9ad557b",
        "colab": {
          "base_uri": "https://localhost:8080/",
          "height": 34
        }
      },
      "source": [
        "y.shape"
      ],
      "execution_count": 107,
      "outputs": [
        {
          "output_type": "execute_result",
          "data": {
            "text/plain": [
              "torch.Size([1, 572, 572])"
            ]
          },
          "metadata": {
            "tags": []
          },
          "execution_count": 107
        }
      ]
    },
    {
      "cell_type": "markdown",
      "metadata": {
        "id": "Un8BBfKPNC58",
        "colab_type": "text"
      },
      "source": [
        "#for cross-validation, dividing the whole set in (90:10) ratio"
      ]
    },
    {
      "cell_type": "code",
      "metadata": {
        "id": "VsFHHVWnpFiK",
        "colab_type": "code",
        "colab": {}
      },
      "source": [
        "train_images = int(0.9 * len(total_images))\n",
        "test_images = len(total_images)- train_images\n",
        "  \n",
        "train_data, validation_data = random_split(total_images,[train_images, test_images])"
      ],
      "execution_count": 0,
      "outputs": []
    },
    {
      "cell_type": "markdown",
      "metadata": {
        "id": "aZUIw-VnJhVD",
        "colab_type": "text"
      },
      "source": [
        "**Creating only train_loader & validation_loader here**"
      ]
    },
    {
      "cell_type": "code",
      "metadata": {
        "id": "8SR_Y065p4HS",
        "colab_type": "code",
        "colab": {}
      },
      "source": [
        "batch_size = 2\n",
        "\n",
        "train_loader = torch.utils.data.DataLoader(train_data, batch_size=batch_size, shuffle=True, num_workers=2)\n",
        "validation_loader = torch.utils.data.DataLoader(validation_data, batch_size=batch_size, shuffle=True, num_workers=2)\n"
      ],
      "execution_count": 0,
      "outputs": []
    },
    {
      "cell_type": "code",
      "metadata": {
        "id": "t2lUJYk1qkRi",
        "colab_type": "code",
        "colab": {}
      },
      "source": [
        "def imshow(img, title):\n",
        "    img = img.clone().detach().numpy()\n",
        "    print('npimage shape',img.shape)\n",
        "    plt.show()\n",
        "    return img"
      ],
      "execution_count": 0,
      "outputs": []
    },
    {
      "cell_type": "code",
      "metadata": {
        "id": "4CcQ1lPNq07T",
        "colab_type": "code",
        "colab": {}
      },
      "source": [
        "def show_train_batch_images(dataloader):\n",
        "    x, y = next(iter(dataloader))\n",
        "    print(x.shape)\n",
        "    return imshow(x[0],'d')"
      ],
      "execution_count": 0,
      "outputs": []
    },
    {
      "cell_type": "code",
      "metadata": {
        "id": "ORJ_qJf1q8rV",
        "colab_type": "code",
        "outputId": "59029d45-4d74-4eae-90d4-edfdc777e60f",
        "colab": {
          "base_uri": "https://localhost:8080/",
          "height": 50
        }
      },
      "source": [
        "p =show_train_batch_images(validation_loader)"
      ],
      "execution_count": 112,
      "outputs": [
        {
          "output_type": "stream",
          "text": [
            "torch.Size([2, 1, 572, 572])\n",
            "npimage shape (1, 572, 572)\n"
          ],
          "name": "stdout"
        }
      ]
    },
    {
      "cell_type": "code",
      "metadata": {
        "id": "OnkIavrcqyBX",
        "colab_type": "code",
        "outputId": "305259e8-50bb-4361-856a-3614c1e3d907",
        "colab": {
          "base_uri": "https://localhost:8080/",
          "height": 50
        }
      },
      "source": [
        "q= show_train_batch_images(train_loader)"
      ],
      "execution_count": 113,
      "outputs": [
        {
          "output_type": "stream",
          "text": [
            "torch.Size([2, 1, 572, 572])\n",
            "npimage shape (1, 572, 572)\n"
          ],
          "name": "stdout"
        }
      ]
    },
    {
      "cell_type": "code",
      "metadata": {
        "id": "l9dsNlGqL2Mn",
        "colab_type": "code",
        "outputId": "b4731ffc-6740-4572-87ec-458decce6e8f",
        "colab": {
          "base_uri": "https://localhost:8080/",
          "height": 34
        }
      },
      "source": [
        "p.shape"
      ],
      "execution_count": 114,
      "outputs": [
        {
          "output_type": "execute_result",
          "data": {
            "text/plain": [
              "(1, 572, 572)"
            ]
          },
          "metadata": {
            "tags": []
          },
          "execution_count": 114
        }
      ]
    },
    {
      "cell_type": "code",
      "metadata": {
        "id": "lxRJDArFMDM6",
        "colab_type": "code",
        "colab": {}
      },
      "source": [
        "p=p.reshape(572,572)"
      ],
      "execution_count": 0,
      "outputs": []
    },
    {
      "cell_type": "code",
      "metadata": {
        "id": "07OFr-ZWMF3Z",
        "colab_type": "code",
        "outputId": "3678009e-c7dd-4bca-c343-4cb752ea6447",
        "colab": {
          "base_uri": "https://localhost:8080/",
          "height": 286
        }
      },
      "source": [
        "plt.imshow(p)"
      ],
      "execution_count": 116,
      "outputs": [
        {
          "output_type": "execute_result",
          "data": {
            "text/plain": [
              "<matplotlib.image.AxesImage at 0x7f90f5510128>"
            ]
          },
          "metadata": {
            "tags": []
          },
          "execution_count": 116
        },
        {
          "output_type": "display_data",
          "data": {
            "image/png": "[encoded data removed]",
            "text/plain": [
              "<Figure size 432x288 with 1 Axes>"
            ]
          },
          "metadata": {
            "tags": []
          }
        }
      ]
    },
    {
      "cell_type": "markdown",
      "metadata": {
        "id": "Y1rz4QcJ0PIb",
        "colab_type": "text"
      },
      "source": [
        "#preparing the U-net architecture"
      ]
    },
    {
      "cell_type": "code",
      "metadata": {
        "id": "iR8rSzRPCalm",
        "colab_type": "code",
        "colab": {}
      },
      "source": [
        "class double_conv(nn.Module):\n",
        "    '''(conv => BN => ReLU) * 2'''\n",
        "    def __init__(self, in_ch, out_ch):\n",
        "        super(double_conv, self).__init__()\n",
        "        self.conv = nn.Sequential(\n",
        "            nn.Conv2d(in_ch, out_ch, 3, padding=1),\n",
        "            nn.BatchNorm2d(out_ch),\n",
        "            nn.ReLU(inplace=True),\n",
        "            nn.Conv2d(out_ch, out_ch, 3, padding=1),\n",
        "            nn.BatchNorm2d(out_ch),\n",
        "            nn.ReLU(inplace=True)\n",
        "        )\n",
        "\n",
        "    def forward(self, x):\n",
        "        x = self.conv(x)\n",
        "        return x\n",
        "\n",
        "\n",
        "class inconv(nn.Module):\n",
        "    def __init__(self, in_ch, out_ch):\n",
        "        super(inconv, self).__init__()\n",
        "        self.conv = double_conv(in_ch, out_ch)\n",
        "\n",
        "    def forward(self, x):\n",
        "        x = self.conv(x)\n",
        "        return x\n",
        "\n",
        "\n",
        "class down(nn.Module):\n",
        "    def __init__(self, in_ch, out_ch):\n",
        "        super(down, self).__init__()\n",
        "        self.mpconv = nn.Sequential(\n",
        "            nn.MaxPool2d(2),\n",
        "            double_conv(in_ch, out_ch)\n",
        "        )\n",
        "\n",
        "    def forward(self, x):\n",
        "        x = self.mpconv(x)\n",
        "        return x\n",
        "\n",
        "\n",
        "class up(nn.Module):\n",
        "    def __init__(self, in_ch, out_ch, bilinear=True):\n",
        "        super(up, self).__init__()\n",
        "\n",
        "        \n",
        "        if bilinear:\n",
        "            self.up = nn.Upsample(scale_factor=2, mode='bilinear', align_corners=True)\n",
        "        else:\n",
        "            self.up = nn.ConvTranspose2d(in_ch//2, in_ch//2, 2, stride=2)\n",
        "\n",
        "        self.conv = double_conv(in_ch, out_ch)\n",
        "\n",
        "    def forward(self, x1, x2):\n",
        "        x1 = self.up(x1)\n",
        "        \n",
        "        # input is CHW\n",
        "        diffY = x2.size()[2] - x1.size()[2]\n",
        "        diffX = x2.size()[3] - x1.size()[3]\n",
        "\n",
        "        x1 = F.pad(x1, (diffX // 2, diffX - diffX//2,\n",
        "                        diffY // 2, diffY - diffY//2))\n",
        "        \n",
        "\n",
        "\n",
        "        x = torch.cat([x2, x1], dim=1)\n",
        "        x = self.conv(x)\n",
        "        return x\n",
        "\n",
        "\n",
        "class outconv(nn.Module):\n",
        "    def __init__(self, in_ch, out_ch):\n",
        "        super(outconv, self).__init__()\n",
        "        self.conv = nn.Conv2d(in_ch, out_ch, 1)\n",
        "\n",
        "    def forward(self, x):\n",
        "        x = self.conv(x)\n",
        "        return x"
      ],
      "execution_count": 0,
      "outputs": []
    },
    {
      "cell_type": "code",
      "metadata": {
        "id": "DbP5YsYyCrbh",
        "colab_type": "code",
        "colab": {}
      },
      "source": [
        "class UNET(nn.Module):\n",
        "    def __init__(self, n_channels, n_classes):\n",
        "        super(UNET, self).__init__()\n",
        "        self.inc = inconv(n_channels, 64)\n",
        "        self.down1 = down(64, 128)\n",
        "        self.down2 = down(128, 256)\n",
        "        self.down3 = down(256, 512)\n",
        "        self.down4 = down(512, 512)\n",
        "        self.up1 = up(1024, 256)\n",
        "        self.up2 = up(512, 128)\n",
        "        self.up3 = up(256, 64)\n",
        "        self.up4 = up(128, 64)\n",
        "        self.outc = outconv(64, n_classes)\n",
        "\n",
        "    def forward(self, x):\n",
        "        x1 = self.inc(x)\n",
        "        x2 = self.down1(x1)\n",
        "        x3 = self.down2(x2)\n",
        "        x4 = self.down3(x3)\n",
        "        x5 = self.down4(x4)\n",
        "        x = self.up1(x5, x4)\n",
        "        x = self.up2(x, x3)\n",
        "        x = self.up3(x, x2)\n",
        "        x = self.up4(x, x1)\n",
        "        x = self.outc(x)\n",
        "        return torch.sigmoid(x)"
      ],
      "execution_count": 0,
      "outputs": []
    },
    {
      "cell_type": "code",
      "metadata": {
        "id": "A0v3H3cpDGO1",
        "colab_type": "code",
        "colab": {}
      },
      "source": [
        "koshal = UNET(1,1)\n",
        "koshal.to(device)"
      ],
      "execution_count": 0,
      "outputs": []
    },
    {
      "cell_type": "markdown",
      "metadata": {
        "id": "7QH4mb75HxJ1",
        "colab_type": "text"
      },
      "source": [
        "**In the above cell using \"koshal\" name as to represent U-Net model..**"
      ]
    },
    {
      "cell_type": "markdown",
      "metadata": {
        "id": "EZYSYNRoHHRa",
        "colab_type": "text"
      },
      "source": [
        "# Using Loss Function"
      ]
    },
    {
      "cell_type": "code",
      "metadata": {
        "id": "BPSoNFx6bdH4",
        "colab_type": "code",
        "colab": {}
      },
      "source": [
        "import torch.optim as optim\n",
        "\n",
        "criterion = nn.BCELoss()\n",
        "\n",
        "optimizer = torch.optim.Adam(koshal.parameters(), lr=0.00015)"
      ],
      "execution_count": 0,
      "outputs": []
    },
    {
      "cell_type": "markdown",
      "metadata": {
        "id": "2P0fk0zHlKud",
        "colab_type": "text"
      },
      "source": [
        "#Dice coefficient"
      ]
    },
    {
      "cell_type": "code",
      "metadata": {
        "id": "6I716J-tgfi6",
        "colab_type": "code",
        "colab": {}
      },
      "source": [
        "def dice_coeff(y_pred, y_targets):\n",
        "   \n",
        "    \n",
        "    smooth = 1\n",
        "    num = y_targets.size(0)\n",
        "    m1 = y_pred.view(num, -1)\n",
        "    m2 = y_targets.view(num, -1)\n",
        "    intersection = (m1 * m2)\n",
        "\n",
        "    score = 2. * (intersection.sum(1) + smooth) / (m1.sum(1) + m2.sum(1) + smooth)\n",
        "    score = score.sum() / num\n",
        "    return score.item()"
      ],
      "execution_count": 0,
      "outputs": []
    },
    {
      "cell_type": "code",
      "metadata": {
        "id": "J7zYHVC8e08L",
        "colab_type": "code",
        "colab": {}
      },
      "source": [
        "def dice_loss(y_predict, y_train):\n",
        "  \n",
        "  dice_loss = 1 -(dice_coeff(y_predict, y_train))\n",
        "  \n",
        "  return dice_loss"
      ],
      "execution_count": 0,
      "outputs": []
    },
    {
      "cell_type": "markdown",
      "metadata": {
        "id": "klz34VhE5NO6",
        "colab_type": "text"
      },
      "source": [
        "#Training of the network"
      ]
    },
    {
      "cell_type": "code",
      "metadata": {
        "id": "KsNW1X7NfqZH",
        "colab_type": "code",
        "outputId": "3536cd70-8b2e-4674-87b4-e4b31a473679",
        "colab": {
          "base_uri": "https://localhost:8080/",
          "height": 1000
        }
      },
      "source": [
        "epochs = 10\n",
        "train_running_loss_history = []\n",
        "validation_running_loss_history =[]\n",
        "\n",
        "for e in range(epochs):\n",
        "  train_running_loss = 0.0\n",
        "  validation_running_loss = 0.0\n",
        "  \n",
        "  koshal.train()\n",
        "  \n",
        "  for ith_batch, sample_batched in enumerate(train_loader):\n",
        "    X_train, y_train = sample_batched\n",
        "    X_train= X_train.to(device)\n",
        "    y_train= y_train.to(device)\n",
        "\n",
        "    optimizer.zero_grad()\n",
        "    y_pred = koshal(X_train)\n",
        "\n",
        "    loss = 0.30 * dice_loss(y_pred, y_train) +  0.70 * criterion(y_pred, y_train)\n",
        " \n",
        "    loss.backward()\n",
        "    optimizer.step()\n",
        "    \n",
        "    if ith_batch % 50 == 0:\n",
        "      print('Epoch: ', e + 1, 'Batch: ', ith_batch, 'Current Loss: ', loss.item())\n",
        "      \n",
        "    train_running_loss += loss.item()  \n",
        "  else:\n",
        "    with torch.no_grad():\n",
        "      \n",
        "      koshal.eval()\n",
        "      \n",
        "      for ith_batch, sample_batched in enumerate(validation_loader):\n",
        "          X_val, y_val = sample_batched\n",
        "          X_val = X_val.to(device)\n",
        "          y_val = y_val.to(device)\n",
        "         \n",
        "          y_out = koshal(X_val)\n",
        "          out_val = (y_out + 0.5).int().float()\n",
        "          \n",
        "          val_loss = 0.3 * dice_loss(out_val, y_val)  + 0.7 * criterion(y_out, y_val)\n",
        "           \n",
        "          validation_running_loss += val_loss.item()\n",
        "      print(\"================================================================================\")\n",
        "      print(\"Epoch {} completed\".format(e + 1))\n",
        "      \n",
        "      train_epoch_loss = train_running_loss / len(train_loader)\n",
        "      validation_epoch_loss = validation_running_loss / len(validation_loader)\n",
        "      \n",
        "      print(\"Average train loss is {}: \".format(train_epoch_loss))\n",
        "      print(\"Average validation loss is {}\".format(validation_epoch_loss))\n",
        "      print(\"================================================================================\")\n",
        "      train_running_loss_history.append(train_epoch_loss)\n",
        "      validation_running_loss_history.append(validation_epoch_loss)\n",
        "  \n",
        "  torch.cuda.empty_cache()"
      ],
      "execution_count": 131,
      "outputs": [
        {
          "output_type": "stream",
          "text": [
            "Epoch:  1 Batch:  0 Current Loss:  0.2568613290786743\n",
            "Epoch:  1 Batch:  50 Current Loss:  0.5856524109840393\n",
            "Epoch:  1 Batch:  100 Current Loss:  0.4563077688217163\n",
            "Epoch:  1 Batch:  150 Current Loss:  0.3601243197917938\n",
            "Epoch:  1 Batch:  200 Current Loss:  0.37025341391563416\n",
            "Epoch:  1 Batch:  250 Current Loss:  0.28814467787742615\n",
            "Epoch:  1 Batch:  300 Current Loss:  0.22266140580177307\n",
            "Epoch:  1 Batch:  350 Current Loss:  0.5958904027938843\n",
            "Epoch:  1 Batch:  400 Current Loss:  0.2841242849826813\n",
            "================================================================================\n",
            "Epoch 1 completed\n",
            "Average train loss is 0.3605403808752696: \n",
            "Average validation loss is 0.31858385652303695\n",
            "================================================================================\n",
            "Epoch:  2 Batch:  0 Current Loss:  0.2296122908592224\n",
            "Epoch:  2 Batch:  50 Current Loss:  0.24057361483573914\n",
            "Epoch:  2 Batch:  100 Current Loss:  0.24831931293010712\n",
            "Epoch:  2 Batch:  150 Current Loss:  0.21949738264083862\n",
            "Epoch:  2 Batch:  200 Current Loss:  0.27898719906806946\n",
            "Epoch:  2 Batch:  250 Current Loss:  0.1469455361366272\n",
            "Epoch:  2 Batch:  300 Current Loss:  0.22799070179462433\n",
            "Epoch:  2 Batch:  350 Current Loss:  0.15150727331638336\n",
            "Epoch:  2 Batch:  400 Current Loss:  0.4693725109100342\n",
            "================================================================================\n",
            "Epoch 2 completed\n",
            "Average train loss is 0.23559532879127396: \n",
            "Average validation loss is 0.18245549023151397\n",
            "================================================================================\n",
            "Epoch:  3 Batch:  0 Current Loss:  0.21327251195907593\n",
            "Epoch:  3 Batch:  50 Current Loss:  0.15817716717720032\n",
            "Epoch:  3 Batch:  100 Current Loss:  0.27626335620880127\n",
            "Epoch:  3 Batch:  150 Current Loss:  0.27375176548957825\n",
            "Epoch:  3 Batch:  200 Current Loss:  0.2035207897424698\n",
            "Epoch:  3 Batch:  250 Current Loss:  0.11221827566623688\n",
            "Epoch:  3 Batch:  300 Current Loss:  0.09139637649059296\n",
            "Epoch:  3 Batch:  350 Current Loss:  0.14747866988182068\n",
            "Epoch:  3 Batch:  400 Current Loss:  0.09917137026786804\n",
            "================================================================================\n",
            "Epoch 3 completed\n",
            "Average train loss is 0.18871329019467037: \n",
            "Average validation loss is 0.16578057900071144\n",
            "================================================================================\n",
            "Epoch:  4 Batch:  0 Current Loss:  0.2756059169769287\n",
            "Epoch:  4 Batch:  50 Current Loss:  0.11452982574701309\n",
            "Epoch:  4 Batch:  100 Current Loss:  0.11502139270305634\n",
            "Epoch:  4 Batch:  150 Current Loss:  0.08811122924089432\n",
            "Epoch:  4 Batch:  200 Current Loss:  0.19178816676139832\n",
            "Epoch:  4 Batch:  250 Current Loss:  0.20544886589050293\n",
            "Epoch:  4 Batch:  300 Current Loss:  0.15727752447128296\n",
            "Epoch:  4 Batch:  350 Current Loss:  0.09057889133691788\n",
            "Epoch:  4 Batch:  400 Current Loss:  0.06637263298034668\n",
            "================================================================================\n",
            "Epoch 4 completed\n",
            "Average train loss is 0.1418484490033653: \n",
            "Average validation loss is 0.12010012067854405\n",
            "================================================================================\n",
            "Epoch:  5 Batch:  0 Current Loss:  0.09812606126070023\n",
            "Epoch:  5 Batch:  50 Current Loss:  0.0509188137948513\n",
            "Epoch:  5 Batch:  100 Current Loss:  0.10834869742393494\n",
            "Epoch:  5 Batch:  150 Current Loss:  0.0509171225130558\n",
            "Epoch:  5 Batch:  200 Current Loss:  0.12030830979347229\n",
            "Epoch:  5 Batch:  250 Current Loss:  0.05548042804002762\n",
            "Epoch:  5 Batch:  300 Current Loss:  0.09143020212650299\n",
            "Epoch:  5 Batch:  350 Current Loss:  0.06790994107723236\n",
            "Epoch:  5 Batch:  400 Current Loss:  0.10997621715068817\n",
            "================================================================================\n",
            "Epoch 5 completed\n",
            "Average train loss is 0.1210642356177171: \n",
            "Average validation loss is 0.4823994320631027\n",
            "================================================================================\n",
            "Epoch:  6 Batch:  0 Current Loss:  0.15257515013217926\n",
            "Epoch:  6 Batch:  50 Current Loss:  0.05235624313354492\n",
            "Epoch:  6 Batch:  100 Current Loss:  0.07425418496131897\n",
            "Epoch:  6 Batch:  150 Current Loss:  0.061492860317230225\n",
            "Epoch:  6 Batch:  200 Current Loss:  0.11007007956504822\n",
            "Epoch:  6 Batch:  250 Current Loss:  0.1026458665728569\n",
            "Epoch:  6 Batch:  300 Current Loss:  0.03460880368947983\n",
            "Epoch:  6 Batch:  350 Current Loss:  0.06536086648702621\n",
            "Epoch:  6 Batch:  400 Current Loss:  0.14032267034053802\n",
            "================================================================================\n",
            "Epoch 6 completed\n",
            "Average train loss is 0.10114490474677748: \n",
            "Average validation loss is 0.11582578472793102\n",
            "================================================================================\n",
            "Epoch:  7 Batch:  0 Current Loss:  0.06436939537525177\n",
            "Epoch:  7 Batch:  50 Current Loss:  0.08569963276386261\n",
            "Epoch:  7 Batch:  100 Current Loss:  0.07352819293737411\n",
            "Epoch:  7 Batch:  150 Current Loss:  0.08263284713029861\n",
            "Epoch:  7 Batch:  200 Current Loss:  0.044914472848176956\n",
            "Epoch:  7 Batch:  250 Current Loss:  0.073610320687294\n",
            "Epoch:  7 Batch:  300 Current Loss:  0.027750074863433838\n",
            "Epoch:  7 Batch:  350 Current Loss:  0.057735785841941833\n",
            "Epoch:  7 Batch:  400 Current Loss:  0.07646261900663376\n",
            "================================================================================\n",
            "Epoch 7 completed\n",
            "Average train loss is 0.08779290174030595: \n",
            "Average validation loss is 0.096300900131464\n",
            "================================================================================\n",
            "Epoch:  8 Batch:  0 Current Loss:  0.05687236040830612\n",
            "Epoch:  8 Batch:  50 Current Loss:  0.07210981100797653\n",
            "Epoch:  8 Batch:  100 Current Loss:  0.047503285109996796\n",
            "Epoch:  8 Batch:  150 Current Loss:  0.03813832998275757\n",
            "Epoch:  8 Batch:  200 Current Loss:  0.04217403009533882\n",
            "Epoch:  8 Batch:  250 Current Loss:  0.039303988218307495\n",
            "Epoch:  8 Batch:  300 Current Loss:  0.058547381311655045\n",
            "Epoch:  8 Batch:  350 Current Loss:  0.06636284291744232\n",
            "Epoch:  8 Batch:  400 Current Loss:  0.04476597532629967\n",
            "================================================================================\n",
            "Epoch 8 completed\n",
            "Average train loss is 0.08070611736840672: \n",
            "Average validation loss is 0.09762708373367786\n",
            "================================================================================\n",
            "Epoch:  9 Batch:  0 Current Loss:  0.04753239452838898\n",
            "Epoch:  9 Batch:  50 Current Loss:  0.09797751158475876\n",
            "Epoch:  9 Batch:  100 Current Loss:  0.040152374655008316\n",
            "Epoch:  9 Batch:  150 Current Loss:  0.14113390445709229\n",
            "Epoch:  9 Batch:  200 Current Loss:  0.03426399081945419\n",
            "Epoch:  9 Batch:  250 Current Loss:  0.07824090868234634\n",
            "Epoch:  9 Batch:  300 Current Loss:  0.1083633154630661\n",
            "Epoch:  9 Batch:  350 Current Loss:  0.032672055065631866\n",
            "Epoch:  9 Batch:  400 Current Loss:  0.04303939267992973\n",
            "================================================================================\n",
            "Epoch 9 completed\n",
            "Average train loss is 0.07374077919870616: \n",
            "Average validation loss is 0.07368607394397259\n",
            "================================================================================\n",
            "Epoch:  10 Batch:  0 Current Loss:  0.02589256688952446\n",
            "Epoch:  10 Batch:  50 Current Loss:  0.025279775261878967\n",
            "Epoch:  10 Batch:  100 Current Loss:  0.031631823629140854\n",
            "Epoch:  10 Batch:  150 Current Loss:  0.08270401507616043\n",
            "Epoch:  10 Batch:  200 Current Loss:  0.03851694241166115\n",
            "Epoch:  10 Batch:  250 Current Loss:  0.03142866492271423\n",
            "Epoch:  10 Batch:  300 Current Loss:  0.09336059540510178\n",
            "Epoch:  10 Batch:  350 Current Loss:  0.04001793637871742\n",
            "Epoch:  10 Batch:  400 Current Loss:  0.06639297306537628\n",
            "================================================================================\n",
            "Epoch 10 completed\n",
            "Average train loss is 0.06670076825966438: \n",
            "Average validation loss is 0.0779080729931593\n",
            "================================================================================\n"
          ],
          "name": "stdout"
        }
      ]
    },
    {
      "cell_type": "markdown",
      "metadata": {
        "id": "3cr6A99EmaYX",
        "colab_type": "text"
      },
      "source": [
        "#plot for validation & training loss respectively"
      ]
    },
    {
      "cell_type": "code",
      "metadata": {
        "id": "VgUPzC96QulB",
        "colab_type": "code",
        "outputId": "89fac757-9de0-4b72-9c16-dfc294f5274e",
        "colab": {
          "base_uri": "https://localhost:8080/",
          "height": 286
        }
      },
      "source": [
        "plt.plot(validation_running_loss_history, label = 'Validation Loss', color='green')\n",
        "plt.plot(train_running_loss_history, label = 'Train Loss',  color='red')\n",
        "plt.legend()"
      ],
      "execution_count": 132,
      "outputs": [
        {
          "output_type": "execute_result",
          "data": {
            "text/plain": [
              "<matplotlib.legend.Legend at 0x7f90f0fa9390>"
            ]
          },
          "metadata": {
            "tags": []
          },
          "execution_count": 132
        },
        {
          "output_type": "display_data",
          "data": {
            "image/png": "[encoded data removed]",
            "text/plain": [
              "<Figure size 432x288 with 1 Axes>"
            ]
          },
          "metadata": {
            "tags": []
          }
        }
      ]
    },
    {
      "cell_type": "markdown",
      "metadata": {
        "id": "-A0-yFfkIf9z",
        "colab_type": "text"
      },
      "source": [
        "**We can see that both the losses are decreasing**"
      ]
    },
    {
      "cell_type": "code",
      "metadata": {
        "id": "Sa-0C9ZERM87",
        "colab_type": "code",
        "outputId": "e8119f55-5af7-4612-c1cd-f98ccc92aa84",
        "colab": {
          "base_uri": "https://localhost:8080/",
          "height": 34
        }
      },
      "source": [
        "koshal.eval()\n",
        "X_train.size()"
      ],
      "execution_count": 133,
      "outputs": [
        {
          "output_type": "execute_result",
          "data": {
            "text/plain": [
              "torch.Size([1, 1, 572, 572])"
            ]
          },
          "metadata": {
            "tags": []
          },
          "execution_count": 133
        }
      ]
    },
    {
      "cell_type": "code",
      "metadata": {
        "id": "AmAma6jqRQXD",
        "colab_type": "code",
        "colab": {}
      },
      "source": [
        "out = (y_pred + 0.5).int().float()"
      ],
      "execution_count": 0,
      "outputs": []
    },
    {
      "cell_type": "code",
      "metadata": {
        "id": "snlNjKRqRWAh",
        "colab_type": "code",
        "outputId": "f1966a5a-a05c-435c-bcef-7e6972a2df09",
        "colab": {
          "base_uri": "https://localhost:8080/",
          "height": 50
        }
      },
      "source": [
        "print(dice_coeff(y_train, out))\n",
        "print(dice_loss(y_train, out))"
      ],
      "execution_count": 144,
      "outputs": [
        {
          "output_type": "stream",
          "text": [
            "0.8360111117362976\n",
            "0.1639888882637024\n"
          ],
          "name": "stdout"
        }
      ]
    },
    {
      "cell_type": "code",
      "metadata": {
        "id": "xd6SvL9SVF4r",
        "colab_type": "code",
        "colab": {}
      },
      "source": [
        "class HC18_test(Dataset):\n",
        "    def __init__(self, root_dir, transform_X = None):\n",
        "        self.pixel_file = test_pixel\n",
        "        self.root_dir = root_dir\n",
        "        self.transform_X = transform_X\n",
        "        \n",
        "    def __len__(self):\n",
        "        return len(self.pixel_file)\n",
        "    \n",
        "    def __getitem__(self, index):\n",
        "        imx_name = os.path.join(self.root_dir, 'test_set', self.pixel_file.iloc[index, 0])\n",
        "        \n",
        "        imx = Image.open(imx_name)\n",
        "        \n",
        "        f_name = self.pixel_file.iloc[index, 0]\n",
        "        \n",
        "        if self.transform_X :\n",
        "            imx = self.transform_X(imx)\n",
        "        \n",
        "        sample = {'image': imx, 'f_name': f_name}\n",
        "        return sample"
      ],
      "execution_count": 0,
      "outputs": []
    },
    {
      "cell_type": "code",
      "metadata": {
        "id": "K-v88WF9VGEa",
        "colab_type": "code",
        "colab": {}
      },
      "source": [
        "test_data = HC18_test('/content', transform_X = transform_X)"
      ],
      "execution_count": 0,
      "outputs": []
    },
    {
      "cell_type": "markdown",
      "metadata": {
        "id": "8VI8b8mtJS6m",
        "colab_type": "text"
      },
      "source": [
        "**Creating test-loader to work with test images**"
      ]
    },
    {
      "cell_type": "code",
      "metadata": {
        "id": "sWmR982rVGM_",
        "colab_type": "code",
        "colab": {}
      },
      "source": [
        "test_loader = torch.utils.data.DataLoader(test_data, batch_size=batch_size,shuffle=False)"
      ],
      "execution_count": 0,
      "outputs": []
    },
    {
      "cell_type": "code",
      "metadata": {
        "id": "cUMDDQ-OETti",
        "colab_type": "code",
        "colab": {}
      },
      "source": [
        "def avg_dice_index(dataloader):\n",
        "  \n",
        "    dice = 0.0\n",
        "    koshal.eval()\n",
        "    with torch.no_grad():\n",
        "    \n",
        "        for ith_batch, sample_batched in enumerate(dataloader):\n",
        "            X_train , y_train = sample_batched  \n",
        "            X_train = X_train.to(device)\n",
        "            y_train = y_train.to(device)\n",
        "            \n",
        "            y_predict = (koshal(X_train) + 0.5).int().float()\n",
        "            \n",
        "            dice += dice_coeff(y_predict, y_train)\n",
        "            \n",
        "            \n",
        "            \n",
        "    avg_dice = dice / len(dataloader)\n",
        "    return avg_dice.item()"
      ],
      "execution_count": 0,
      "outputs": []
    },
    {
      "cell_type": "code",
      "metadata": {
        "id": "fLLovu-sEc31",
        "colab_type": "code",
        "colab": {}
      },
      "source": [
        "avg_dice_index(validation_loader)"
      ],
      "execution_count": 0,
      "outputs": []
    },
    {
      "cell_type": "code",
      "metadata": {
        "id": "onyRTo5zEfuO",
        "colab_type": "code",
        "colab": {}
      },
      "source": [
        "avg_dice_index(train_loader)"
      ],
      "execution_count": 0,
      "outputs": []
    },
    {
      "cell_type": "code",
      "metadata": {
        "id": "QVpaY9VvZTlN",
        "colab_type": "code",
        "colab": {}
      },
      "source": [
        "test_loader = DataLoader(dataset = test_data, batch_size = 1, shuffle = True)"
      ],
      "execution_count": 0,
      "outputs": []
    },
    {
      "cell_type": "markdown",
      "metadata": {
        "id": "lXIe_SW4hteW",
        "colab_type": "text"
      },
      "source": [
        "#Writing in the Drive"
      ]
    },
    {
      "cell_type": "code",
      "metadata": {
        "id": "hnLgBOyph8fS",
        "colab_type": "code",
        "colab": {
          "base_uri": "https://localhost:8080/",
          "height": 34
        },
        "outputId": "f6060c63-d8b8-4cc7-b36b-45046fec3e69"
      },
      "source": [
        "transform = transforms.Compose([transforms.ToPILImage(),transforms.Resize((540, 800)),transforms.ToTensor()])\n",
        "    \n",
        "with torch.no_grad():\n",
        "    \n",
        "      for ith_batch , data in enumerate(test_loader):\n",
        "        X_test = data['image']\n",
        "        X_test = X_test.to(device)\n",
        "     \n",
        "        y_pred = (koshal(X_test) + 0.5).int().float().cpu()\n",
        "      \n",
        "        file_names = data['f_name']\n",
        "        Result = transform(y_pred[0])\n",
        "        torchvision.utils.save_image(Result , os.path.join('/content/segmentation_test', file_names[0]))\n",
        "      print(\"task to write file is complete\")"
      ],
      "execution_count": 147,
      "outputs": [
        {
          "output_type": "stream",
          "text": [
            "task to write file is complete\n"
          ],
          "name": "stdout"
        }
      ]
    },
    {
      "cell_type": "markdown",
      "metadata": {
        "id": "WeWxmP-9PYtn",
        "colab_type": "text"
      },
      "source": [
        "**Function to create mask of test_set**"
      ]
    },
    {
      "cell_type": "code",
      "metadata": {
        "id": "qTcUVKPWh8XQ",
        "colab_type": "code",
        "colab": {}
      },
      "source": [
        "def test_ellipse(im):    \n",
        "    imgray = cv2.cvtColor(im,cv2.COLOR_BGR2GRAY)\n",
        "    ret,thresh = cv2.threshold(imgray,127,255,0)\n",
        "    im2, contours, hierarchy = cv2.findContours(thresh,cv2.RETR_TREE,cv2.CHAIN_APPROX_SIMPLE)\n",
        "    contour_sizes = [len(contour) for contour in contours]\n",
        "    ellipse = cv2.fitEllipse(contours[np.argmax(contour_sizes)])\n",
        "    return ellipse"
      ],
      "execution_count": 0,
      "outputs": []
    },
    {
      "cell_type": "markdown",
      "metadata": {
        "id": "CISHgt5yPkZP",
        "colab_type": "text"
      },
      "source": [
        "# **Function to fit ellipse into the test images**"
      ]
    },
    {
      "cell_type": "code",
      "metadata": {
        "id": "FBo0AxH9h7oo",
        "colab_type": "code",
        "outputId": "6b12f8d9-5e53-4484-963c-9d8f37c811cc",
        "colab": {
          "base_uri": "https://localhost:8080/",
          "height": 34
        }
      },
      "source": [
        "submission = {'filename': [], 'center_x_mm': [], 'center_y_mm': [], 'semi_axes_a_mm': [],\n",
        "             'semi_axes_b_mm': [], 'angle_rad': [], 'Index': []}\n",
        "\n",
        "file_names = sorted([file for _,_,files in os.walk('/content/segmentation_test/') for file in files])\n",
        "\n",
        "for i, file_name in enumerate(file_names):\n",
        "    im = cv2.imread('/content/segmentation_test/'+file_name)\n",
        "  \n",
        "    ellipse = test_ellipse(im)\n",
        "    im_mask = cv2.ellipse(np.zeros_like(im),ellipse,(255,255,255),-1)\n",
        "    image_name = file_name.split('.')[0] + '_Annotation_fit.png'\n",
        "    \n",
        "    pixel_size = test_pixel.loc[test_pixel['filename'] == file_name, 'pixel size(mm)'].iloc[0]\n",
        "    submission['filename'].extend([file_name])\n",
        "    submission['Index'].extend([int(file_name.split('_')[0])])\n",
        "    center_x,  center_y = ellipse[0]\n",
        "    submission['center_x_mm'].extend([pixel_size*center_x])\n",
        "    submission['center_y_mm'].extend([pixel_size*center_y])\n",
        "    semi_axes_b, semi_axes_a = ellipse[1]\n",
        "    if semi_axes_b > semi_axes_a:\n",
        "        semi_axes_b = semi_axes_b + semi_axes_a\n",
        "        semi_axes_a = semi_axes_b - semi_axes_a\n",
        "        semi_axes_b -= semi_axes_a\n",
        "    submission['semi_axes_a_mm'].extend([semi_axes_a*pixel_size/2])\n",
        "    submission['semi_axes_b_mm'].extend([semi_axes_b*pixel_size/2])\n",
        "    angle = ellipse[2]\n",
        "    if angle < 90:\n",
        "        angle += 90\n",
        "    else:\n",
        "        angle -= 90\n",
        "    submission['angle_rad'].extend([np.deg2rad(angle)])\n",
        "    \n",
        "submission = pd.DataFrame(submission)\n",
        "submission = submission[['filename', 'center_x_mm', 'center_y_mm', \n",
        "                         'semi_axes_a_mm', 'semi_axes_b_mm', 'angle_rad', 'Index']]    \n",
        "submission = submission.sort_values(['Index'])\n",
        "submission = submission.drop('Index', axis=1)\n",
        "submission.to_csv(\"final_result.csv\", index=False)\n",
        "print('Required .csv file generated')"
      ],
      "execution_count": 150,
      "outputs": [
        {
          "output_type": "stream",
          "text": [
            "Required .csv file generated\n"
          ],
          "name": "stdout"
        }
      ]
    },
    {
      "cell_type": "code",
      "metadata": {
        "id": "h3fRXZtCjqr5",
        "colab_type": "code",
        "colab": {}
      },
      "source": [
        "final_result = pd.read_csv('/content/final_result.csv')"
      ],
      "execution_count": 0,
      "outputs": []
    },
    {
      "cell_type": "code",
      "metadata": {
        "id": "i9x0IkjLkaj_",
        "colab_type": "code",
        "outputId": "bbb44d76-2612-4e7d-d842-fc13063e49e6",
        "colab": {
          "base_uri": "https://localhost:8080/",
          "height": 195
        }
      },
      "source": [
        "final_result.head()"
      ],
      "execution_count": 152,
      "outputs": [
        {
          "output_type": "execute_result",
          "data": {
            "text/html": [
              "<div>\n",
              "<style scoped>\n",
              "    .dataframe tbody tr th:only-of-type {\n",
              "        vertical-align: middle;\n",
              "    }\n",
              "\n",
              "    .dataframe tbody tr th {\n",
              "        vertical-align: top;\n",
              "    }\n",
              "\n",
              "    .dataframe thead th {\n",
              "        text-align: right;\n",
              "    }\n",
              "</style>\n",
              "<table border=\"1\" class=\"dataframe\">\n",
              "  <thead>\n",
              "    <tr style=\"text-align: right;\">\n",
              "      <th></th>\n",
              "      <th>filename</th>\n",
              "      <th>center_x_mm</th>\n",
              "      <th>center_y_mm</th>\n",
              "      <th>semi_axes_a_mm</th>\n",
              "      <th>semi_axes_b_mm</th>\n",
              "      <th>angle_rad</th>\n",
              "    </tr>\n",
              "  </thead>\n",
              "  <tbody>\n",
              "    <tr>\n",
              "      <th>0</th>\n",
              "      <td>000_HC.png</td>\n",
              "      <td>93.694818</td>\n",
              "      <td>65.133791</td>\n",
              "      <td>53.575643</td>\n",
              "      <td>39.960896</td>\n",
              "      <td>3.117554</td>\n",
              "    </tr>\n",
              "    <tr>\n",
              "      <th>1</th>\n",
              "      <td>001_HC.png</td>\n",
              "      <td>29.686840</td>\n",
              "      <td>21.191104</td>\n",
              "      <td>11.573130</td>\n",
              "      <td>9.710746</td>\n",
              "      <td>2.625027</td>\n",
              "    </tr>\n",
              "    <tr>\n",
              "      <th>2</th>\n",
              "      <td>002_HC.png</td>\n",
              "      <td>60.545558</td>\n",
              "      <td>42.420483</td>\n",
              "      <td>38.290650</td>\n",
              "      <td>28.558594</td>\n",
              "      <td>0.078223</td>\n",
              "    </tr>\n",
              "    <tr>\n",
              "      <th>3</th>\n",
              "      <td>003_HC.png</td>\n",
              "      <td>35.148951</td>\n",
              "      <td>27.401620</td>\n",
              "      <td>30.386673</td>\n",
              "      <td>23.008445</td>\n",
              "      <td>3.130000</td>\n",
              "    </tr>\n",
              "    <tr>\n",
              "      <th>4</th>\n",
              "      <td>004_HC.png</td>\n",
              "      <td>78.535374</td>\n",
              "      <td>58.344917</td>\n",
              "      <td>54.529975</td>\n",
              "      <td>43.993122</td>\n",
              "      <td>0.118684</td>\n",
              "    </tr>\n",
              "  </tbody>\n",
              "</table>\n",
              "</div>"
            ],
            "text/plain": [
              "     filename  center_x_mm  ...  semi_axes_b_mm  angle_rad\n",
              "0  000_HC.png    93.694818  ...       39.960896   3.117554\n",
              "1  001_HC.png    29.686840  ...        9.710746   2.625027\n",
              "2  002_HC.png    60.545558  ...       28.558594   0.078223\n",
              "3  003_HC.png    35.148951  ...       23.008445   3.130000\n",
              "4  004_HC.png    78.535374  ...       43.993122   0.118684\n",
              "\n",
              "[5 rows x 6 columns]"
            ]
          },
          "metadata": {
            "tags": []
          },
          "execution_count": 152
        }
      ]
    },
    {
      "cell_type": "code",
      "metadata": {
        "id": "M73KNKOlkc-v",
        "colab_type": "code",
        "outputId": "356b75bd-a253-42fc-83d8-daed04b5cb43",
        "colab": {
          "base_uri": "https://localhost:8080/",
          "height": 34
        }
      },
      "source": [
        "len(final_result)"
      ],
      "execution_count": 0,
      "outputs": [
        {
          "output_type": "execute_result",
          "data": {
            "text/plain": [
              "335"
            ]
          },
          "metadata": {
            "tags": []
          },
          "execution_count": 81
        }
      ]
    }
  ]
}